{
 "cells": [
  {
   "cell_type": "code",
   "execution_count": 1,
   "metadata": {},
   "outputs": [
    {
     "name": "stdout",
     "output_type": "stream",
     "text": [
      "env: CUDA_LAUNCH_BLOCKING=1\n"
     ]
    }
   ],
   "source": [
    "%load_ext autoreload\n",
    "%autoreload 2\n",
    "%env CUDA_LAUNCH_BLOCKING=1\n",
    "\n",
    "from train import Trainer"
   ]
  },
  {
   "cell_type": "code",
   "execution_count": 11,
   "metadata": {},
   "outputs": [],
   "source": [
    "trainer = Trainer()"
   ]
  },
  {
   "cell_type": "code",
   "execution_count": 12,
   "metadata": {},
   "outputs": [
    {
     "name": "stderr",
     "output_type": "stream",
     "text": [
      "\u001b[32m2025-05-10 12:52:09.360\u001b[0m | \u001b[1mINFO    \u001b[0m | \u001b[36mtrain\u001b[0m:\u001b[36minit_model\u001b[0m:\u001b[36m5\u001b[0m - \u001b[1mModel loaded.\u001b[0m\n",
      "\u001b[32m2025-05-10 12:52:09.366\u001b[0m | \u001b[1mINFO    \u001b[0m | \u001b[36mtrain\u001b[0m:\u001b[36minit_model\u001b[0m:\u001b[36m7\u001b[0m - \u001b[1mUsing device cuda:0\u001b[0m\n"
     ]
    }
   ],
   "source": [
    "trainer.init_model()"
   ]
  },
  {
   "cell_type": "code",
   "execution_count": 15,
   "metadata": {},
   "outputs": [
    {
     "name": "stderr",
     "output_type": "stream",
     "text": [
      "\u001b[32m2025-05-10 12:53:15.966\u001b[0m | \u001b[1mINFO    \u001b[0m | \u001b[36mminrl.dataset\u001b[0m:\u001b[36mcreate_connections_datasets\u001b[0m:\u001b[36m2\u001b[0m - \u001b[1mLoading data from data/train_prompts.jsonl\u001b[0m\n",
      "\u001b[32m2025-05-10 12:53:15.977\u001b[0m | \u001b[1mINFO    \u001b[0m | \u001b[36mminrl.dataset\u001b[0m:\u001b[36mcreate_connections_datasets\u001b[0m:\u001b[36m5\u001b[0m - \u001b[1mGenerating 10000 samples\u001b[0m\n",
      "\u001b[32m2025-05-10 12:53:19.431\u001b[0m | \u001b[1mINFO    \u001b[0m | \u001b[36mminrl.dataset\u001b[0m:\u001b[36mcreate_connections_datasets\u001b[0m:\u001b[36m9\u001b[0m - \u001b[1mSplitting into train and val sets\u001b[0m\n"
     ]
    }
   ],
   "source": [
    "trainer.init_training()"
   ]
  }
 ],
 "metadata": {
  "kernelspec": {
   "display_name": ".venv",
   "language": "python",
   "name": "python3"
  },
  "language_info": {
   "codemirror_mode": {
    "name": "ipython",
    "version": 3
   },
   "file_extension": ".py",
   "mimetype": "text/x-python",
   "name": "python",
   "nbconvert_exporter": "python",
   "pygments_lexer": "ipython3",
   "version": "3.12.3"
  }
 },
 "nbformat": 4,
 "nbformat_minor": 2
}
