{
 "cells": [
  {
   "cell_type": "code",
   "execution_count": 4,
   "id": "2d4fe0ab",
   "metadata": {},
   "outputs": [],
   "source": [
    "import pandas as pd\n",
    "\n",
    "trajectories = pd.read_parquet(\"../eval_results/zork/eval_gemini_2.5_flash_20250905_113525.parquet\")"
   ]
  },
  {
   "cell_type": "code",
   "execution_count": 5,
   "id": "56555b22",
   "metadata": {},
   "outputs": [
    {
     "data": {
      "text/html": [
       "<div>\n",
       "<style scoped>\n",
       "    .dataframe tbody tr th:only-of-type {\n",
       "        vertical-align: middle;\n",
       "    }\n",
       "\n",
       "    .dataframe tbody tr th {\n",
       "        vertical-align: top;\n",
       "    }\n",
       "\n",
       "    .dataframe thead th {\n",
       "        text-align: right;\n",
       "    }\n",
       "</style>\n",
       "<table border=\"1\" class=\"dataframe\">\n",
       "  <thead>\n",
       "    <tr style=\"text-align: right;\">\n",
       "      <th></th>\n",
       "      <th>model</th>\n",
       "      <th>conversation</th>\n",
       "      <th>status</th>\n",
       "      <th>game</th>\n",
       "    </tr>\n",
       "  </thead>\n",
       "  <tbody>\n",
       "    <tr>\n",
       "      <th>0</th>\n",
       "      <td>gemini_2.5_flash</td>\n",
       "      <td>[{'content': '\n",
       "You are an AI agent whose sole ...</td>\n",
       "      <td>done</td>\n",
       "      <td>Balances.z5</td>\n",
       "    </tr>\n",
       "    <tr>\n",
       "      <th>1</th>\n",
       "      <td>gemini_2.5_flash</td>\n",
       "      <td>[{'content': '\n",
       "You are an AI agent whose sole ...</td>\n",
       "      <td>done</td>\n",
       "      <td>sherbet.z5</td>\n",
       "    </tr>\n",
       "    <tr>\n",
       "      <th>2</th>\n",
       "      <td>gemini_2.5_flash</td>\n",
       "      <td>[{'content': '\n",
       "You are an AI agent whose sole ...</td>\n",
       "      <td>done</td>\n",
       "      <td>zork2.z5</td>\n",
       "    </tr>\n",
       "    <tr>\n",
       "      <th>3</th>\n",
       "      <td>gemini_2.5_flash</td>\n",
       "      <td>[{'content': '\n",
       "You are an AI agent whose sole ...</td>\n",
       "      <td>done</td>\n",
       "      <td>detective 2.z5</td>\n",
       "    </tr>\n",
       "    <tr>\n",
       "      <th>4</th>\n",
       "      <td>gemini_2.5_flash</td>\n",
       "      <td>[{'content': '\n",
       "You are an AI agent whose sole ...</td>\n",
       "      <td>done</td>\n",
       "      <td>pentari.z5</td>\n",
       "    </tr>\n",
       "  </tbody>\n",
       "</table>\n",
       "</div>"
      ],
      "text/plain": [
       "              model                                       conversation status  \\\n",
       "0  gemini_2.5_flash  [{'content': '\n",
       "You are an AI agent whose sole ...   done   \n",
       "1  gemini_2.5_flash  [{'content': '\n",
       "You are an AI agent whose sole ...   done   \n",
       "2  gemini_2.5_flash  [{'content': '\n",
       "You are an AI agent whose sole ...   done   \n",
       "3  gemini_2.5_flash  [{'content': '\n",
       "You are an AI agent whose sole ...   done   \n",
       "4  gemini_2.5_flash  [{'content': '\n",
       "You are an AI agent whose sole ...   done   \n",
       "\n",
       "             game  \n",
       "0     Balances.z5  \n",
       "1      sherbet.z5  \n",
       "2        zork2.z5  \n",
       "3  detective 2.z5  \n",
       "4      pentari.z5  "
      ]
     },
     "execution_count": 5,
     "metadata": {},
     "output_type": "execute_result"
    }
   ],
   "source": [
    "trajectories.head()"
   ]
  }
 ],
 "metadata": {
  "kernelspec": {
   "display_name": ".venv",
   "language": "python",
   "name": "python3"
  },
  "language_info": {
   "codemirror_mode": {
    "name": "ipython",
    "version": 3
   },
   "file_extension": ".py",
   "mimetype": "text/x-python",
   "name": "python",
   "nbconvert_exporter": "python",
   "pygments_lexer": "ipython3",
   "version": "3.12.8"
  }
 },
 "nbformat": 4,
 "nbformat_minor": 5
}
