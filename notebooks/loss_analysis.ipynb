{
    "cells": [
        {
            "cell_type": "code",
            "execution_count": null,
            "id": "30350625",
            "metadata": {},
            "outputs": [],
            "source": [
                "%load_ext autoreload\n",
                "%autoreload 2\n",
                "\n",
                "import sys\n",
                "import os\n",
                "\n",
                "sys.path.append(os.path.abspath(\".\"))"
            ]
        },
        {
            "cell_type": "code",
            "execution_count": null,
            "id": "56fb51ab",
            "metadata": {},
            "outputs": [],
            "source": [
                "from minrl.algorithms import (\n",
                "    rollout\n",
                ")\n",
                "from minrl.constants import AlgorithmChoice, Conversation, Episode, TrainerConfig\n",
                "from minrl.trainer import Trainer\n",
                "import torch"
            ]
        }
    ],
    "metadata": {
        "kernelspec": {
            "display_name": ".venv",
            "language": "python",
            "name": "python3"
        },
        "language_info": {
            "codemirror_mode": {
                "name": "ipython",
                "version": 3
            },
            "file_extension": ".py",
            "mimetype": "text/x-python",
            "name": "python",
            "nbconvert_exporter": "python",
            "pygments_lexer": "ipython3",
            "version": "3.11.10"
        }
    },
    "nbformat": 4,
    "nbformat_minor": 5
}