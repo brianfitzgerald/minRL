{
 "cells": [
  {
   "cell_type": "code",
   "execution_count": 1,
   "id": "30350625",
   "metadata": {},
   "outputs": [],
   "source": [
    "%load_ext autoreload\n",
    "%autoreload 2\n",
    "\n",
    "import sys\n",
    "import os\n",
    "sys.path.append(os.path.abspath(\"..\"))"
   ]
  },
  {
   "cell_type": "code",
   "execution_count": 7,
   "id": "56fb51ab",
   "metadata": {},
   "outputs": [
    {
     "name": "stderr",
     "output_type": "stream",
     "text": [
      "\u001b[32m2025-10-12 20:49:50.886\u001b[0m | \u001b[1mINFO    \u001b[0m | \u001b[36mminrl.tasks.connections\u001b[0m:\u001b[36m__init__\u001b[0m:\u001b[36m123\u001b[0m - \u001b[1mLoading generated prompts from ../data/connections_generated.jsonl\u001b[0m\n",
      "\u001b[32m2025-10-12 20:49:50.905\u001b[0m | \u001b[1mINFO    \u001b[0m | \u001b[36mminrl.tasks.connections\u001b[0m:\u001b[36m__init__\u001b[0m:\u001b[36m129\u001b[0m - \u001b[1mGenerating 1000 samples\u001b[0m\n",
      "\u001b[32m2025-10-12 20:49:51.371\u001b[0m | \u001b[1mINFO    \u001b[0m | \u001b[36mminrl.tasks.connections\u001b[0m:\u001b[36m__init__\u001b[0m:\u001b[36m144\u001b[0m - \u001b[1mLoading canonical prompts from ../data/connections_canonical.json\u001b[0m\n"
     ]
    }
   ],
   "source": [
    "from minrl.algorithms import (\n",
    "    rollout\n",
    ")\n",
    "from minrl.tasks.connections import ConnectionsDataset\n",
    "\n",
    "\n",
    "dataset = ConnectionsDataset(split=\"eval\", host=\"notebook\")"
   ]
  },
  {
   "cell_type": "code",
   "execution_count": null,
   "id": "4961436a",
   "metadata": {},
   "outputs": [
    {
     "name": "stdout",
     "output_type": "stream",
     "text": [
      "[{'role': 'system', 'content': '\\nFind four groups of four words that are related to each other.\\nYou may only use each word in one group.\\nAlways return four groups of four words.\\nRespond in the following format:\\n<answer>\\n<group>\\n...\\n</group>\\n<group>\\n...\\n</group>\\n</answer>\\n\\n'}, {'role': 'user', 'content': 'candle, crayon, honeycomb, seal, kettles, mittens, raindrops, whiskers, canine, fang, molar, tusk, defense, excuse, out, reason'}, {'role': 'assistant', 'content': '\\n<answer>\\n<group>candle, crayon, honeycomb, seal</group>\\n<group>kettles, mittens, raindrops, whiskers</group>\\n<group>canine, fang, molar, tusk</group>\\n<group>defense, excuse, out, reason</group>\\n</answer>\\n'}, {'role': 'user', 'content': 'dance, meal, one, root, bite, edge, punch, spice, mineral, spring, still, tap, hi, la, ma, ok'}]\n"
     ]
    }
   ],
   "source": [
    "batch = dataset[:4]\n",
    "\n",
    "conversations = [\n",
    "    dataset.initial_conversation(sample, i)\n",
    "    for i, sample in enumerate(batch)\n",
    "]\n",
    "\n",
    "episodes = rollout(\n",
    "    temperature,\n",
    "    max_new_tokens,\n",
    "    tokenizer,\n",
    "    group_size,\n",
    "    1,\n",
    "    conversations,\n",
    "    batch,\n",
    "    reward_function=self.reward_function,\n",
    "    vllm_model=self.vllm_model,\n",
    "    prev_reward_std=prev_reward_std,\n",
    ")"
   ]
  }
 ],
 "metadata": {
  "kernelspec": {
   "display_name": ".venv",
   "language": "python",
   "name": "python3"
  },
  "language_info": {
   "codemirror_mode": {
    "name": "ipython",
    "version": 3
   },
   "file_extension": ".py",
   "mimetype": "text/x-python",
   "name": "python",
   "nbconvert_exporter": "python",
   "pygments_lexer": "ipython3",
   "version": "3.11.10"
  }
 },
 "nbformat": 4,
 "nbformat_minor": 5
}
